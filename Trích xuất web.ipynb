{
 "cells": [
  {
   "cell_type": "code",
   "execution_count": 2,
   "id": "e937a48d",
   "metadata": {},
   "outputs": [
    {
     "name": "stdout",
     "output_type": "stream",
     "text": [
      "    STT Mã cổ phiếu      TC    Trần     Sàn\n",
      "0     1         ACB   22.55   24.10   21.00\n",
      "1     2         BCM   61.00   65.20   56.80\n",
      "2     3         BID   42.85   45.80   39.90\n",
      "3     4         BVH   41.00   43.85   38.15\n",
      "4     5         CTG   29.50   31.55   27.45\n",
      "5     6         FPT   92.50   98.90   86.10\n",
      "6     7         GAS   80.00   85.60   74.40\n",
      "7     8         GVR   19.70   21.05   18.35\n",
      "8     9         HDB   18.75   20.05   17.45\n",
      "9    10         HPG   26.70   28.55   24.85\n",
      "10   11         MBB   18.35   19.60   17.10\n",
      "11   12         MSN   62.80   67.10   58.50\n",
      "12   13         MWG   40.30   43.10   37.50\n",
      "13   14         PLX   33.95   36.30   31.60\n",
      "14   15         POW   11.55   12.35   10.75\n",
      "15   16         SAB   63.90   68.30   59.50\n",
      "16   17         SHB   11.25   12.00   10.50\n",
      "17   18         SSB   24.50   26.20   22.80\n",
      "18   19         SSI   30.85   33.00   28.70\n",
      "19   20         STB   29.65   31.70   27.60\n",
      "20   21         TCB   31.50   33.70   29.30\n",
      "21   22         TPB   17.10   18.25   15.95\n",
      "22   23         VCB   87.90   94.00   81.80\n",
      "23   24         VHM   42.90   45.90   39.90\n",
      "24   25         VIB   19.30   20.65   17.95\n",
      "25   26         VIC   45.40   48.55   42.25\n",
      "26   27         VJC  108.40  115.90  100.90\n",
      "27   28         VNM   70.70   75.60   65.80\n",
      "28   29         VPB   20.00   21.40   18.60\n",
      "29   30         VRE   24.30   26.00   22.60\n"
     ]
    }
   ],
   "source": [
    "import pandas as pd\n",
    "import requests\n",
    "from bs4 import BeautifulSoup\n",
    "dem=0\n",
    "url = 'https://banggia.vietstock.vn/'\n",
    "response = requests.get(url)\n",
    "soup = BeautifulSoup(response.content, \"html.parser\")\n",
    "bang = soup.find_all(\"table\", class_=\"table-price-board\")\n",
    "\n",
    "\n",
    "for r in bang:\n",
    "    row = r.find_all(\"tr\")\n",
    "mcp = []\n",
    "gtc = []\n",
    "gt = []\n",
    "gs = []\n",
    "count = []\n",
    "for c in row:\n",
    "    col=c.find_all(\"td\")\n",
    "    stock = col[0].text.strip()\n",
    "    tc = col[1].text.strip()\n",
    "    cell = col[2].text.strip()\n",
    "    floor = col[3].text.strip()\n",
    "    dem+=1\n",
    "    mcp.append(stock)\n",
    "    gtc.append(tc)\n",
    "    gt.append(cell)\n",
    "    gs.append(floor)\n",
    "    count.append(dem)\n",
    "\n",
    "kq = {\n",
    "    \"STT\":count,\"Mã cổ phiếu\":mcp,\"TC\":gtc,\"Trần\":gt,\"Sàn\":gs\n",
    "}\n",
    "\n",
    "print(pd.DataFrame(kq))\n",
    "\n",
    "\n"
   ]
  }
 ],
 "metadata": {
  "kernelspec": {
   "display_name": "Python 3 (ipykernel)",
   "language": "python",
   "name": "python3"
  },
  "language_info": {
   "codemirror_mode": {
    "name": "ipython",
    "version": 3
   },
   "file_extension": ".py",
   "mimetype": "text/x-python",
   "name": "python",
   "nbconvert_exporter": "python",
   "pygments_lexer": "ipython3",
   "version": "3.11.5"
  }
 },
 "nbformat": 4,
 "nbformat_minor": 5
}
